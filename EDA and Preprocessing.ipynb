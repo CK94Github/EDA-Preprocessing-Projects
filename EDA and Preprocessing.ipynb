{
 "cells": [
  {
   "cell_type": "code",
   "execution_count": null,
   "id": "c109c019",
   "metadata": {},
   "outputs": [],
   "source": [
    "import pandas as pd\n",
    "\n",
    "df = pd.read_csv('eda.csv') #Read the CSV file\n",
    "df.head() # Display the first five rows of the data"
   ]
  },
  {
   "cell_type": "raw",
   "id": "f2173b5b",
   "metadata": {},
   "source": [
    "Basic EDA"
   ]
  },
  {
   "cell_type": "code",
   "execution_count": null,
   "id": "c9261e8f",
   "metadata": {},
   "outputs": [],
   "source": [
    "df.shape\n",
    "# 205 Rows\n",
    "# 15 Columns"
   ]
  },
  {
   "cell_type": "code",
   "execution_count": null,
   "id": "19b907a8",
   "metadata": {},
   "outputs": [],
   "source": [
    "df.info()\n",
    "# Number of rows = 205\n",
    "# Number of columns = 15\n",
    "# Name, data type and number of non-null rows in each column\n",
    "# Number of null values in each column\n",
    "# Number of columns for each data type\n",
    "# Memory usage"
   ]
  },
  {
   "cell_type": "raw",
   "id": "c222e28b",
   "metadata": {},
   "source": [
    "Handling Missing Values"
   ]
  },
  {
   "cell_type": "code",
   "execution_count": null,
   "id": "91957a82",
   "metadata": {},
   "outputs": [],
   "source": [
    "df.isna().sum() #Return the number of missing values in each column"
   ]
  },
  {
   "cell_type": "code",
   "execution_count": null,
   "id": "f7673121",
   "metadata": {},
   "outputs": [],
   "source": [
    "# Delete \n",
    "\n",
    "newdf = df.dropna() #Returns the DataFrame after deleting all rows containing null values\n",
    "print('Shape of df: {}'.format(df.shape))\n",
    "print('Shape of newdf: {}'.format(newdf.shape))"
   ]
  },
  {
   "cell_type": "code",
   "execution_count": null,
   "id": "96a0dadf",
   "metadata": {},
   "outputs": [],
   "source": [
    "newdf = df.dropna(axis=1) #Delete columns containing null values\n",
    "print('Shape of df: {}'.format(df.shape))\n",
    "print('Shape of newdf: {}'.format(newdf.shape))"
   ]
  },
  {
   "cell_type": "code",
   "execution_count": null,
   "id": "ce7a773a",
   "metadata": {},
   "outputs": [],
   "source": [
    "nullrows = df['horsepower'].isna()\n",
    "df[nullrows]"
   ]
  },
  {
   "cell_type": "code",
   "execution_count": null,
   "id": "1156c68a",
   "metadata": {},
   "outputs": [],
   "source": [
    "# Imputation (Fill with a value)\n",
    "mean = df['horsepower'].mean()\n",
    "mean"
   ]
  },
  {
   "cell_type": "code",
   "execution_count": null,
   "id": "ed6c10c8",
   "metadata": {},
   "outputs": [],
   "source": [
    "df['horsepower'].fillna(mean, inplace=True) # Fill the mean in all the rows containin null value in the horsepower column\n",
    "df[nullrows]"
   ]
  },
  {
   "cell_type": "raw",
   "id": "69aef3a6",
   "metadata": {},
   "source": [
    "Handling Outliers"
   ]
  },
  {
   "cell_type": "code",
   "execution_count": null,
   "id": "2c6984a4",
   "metadata": {},
   "outputs": [],
   "source": [
    "import seaborn as sns\n",
    "\n",
    "sns.boxplot(x=df['horsepower'])"
   ]
  },
  {
   "cell_type": "code",
   "execution_count": null,
   "id": "651b063e",
   "metadata": {},
   "outputs": [],
   "source": [
    "condition = df['horsepower']>190 # Return a boolean DataFrame\n",
    "outliers = df[condition] # Outlier rows\n",
    "newdf = df.drop(outliers.index, axis=0) #Delete outliers\n",
    "print('Shape of df: {}'.format(df.shape))\n",
    "print('Shape of newdf: {}'.format(newdf.shape))"
   ]
  },
  {
   "cell_type": "raw",
   "id": "f9922739",
   "metadata": {},
   "source": [
    "Handling Skewness"
   ]
  },
  {
   "cell_type": "code",
   "execution_count": null,
   "id": "200b6136",
   "metadata": {
    "scrolled": true
   },
   "outputs": [],
   "source": [
    "import matplotlib.pyplot as plt\n",
    "\n",
    "plt.hist(df['engine-size'])\n",
    "plt.show()\n",
    "#Right Skewed (Positively Skewed)"
   ]
  },
  {
   "cell_type": "code",
   "execution_count": null,
   "id": "3dd6e974",
   "metadata": {},
   "outputs": [],
   "source": [
    "df['engine-size'].skew() #Returns the skewness"
   ]
  },
  {
   "cell_type": "code",
   "execution_count": null,
   "id": "ca869f69",
   "metadata": {},
   "outputs": [],
   "source": [
    "# Box Cox Transformation\n",
    "\n",
    "from scipy.stats import boxcox\n",
    "import numpy as np\n",
    "\n",
    "after_boxcox = boxcox(df['engine-size'])\n",
    "after_boxcox = pd.Series(after_boxcox[0])\n",
    "after_boxcox.skew()"
   ]
  },
  {
   "cell_type": "code",
   "execution_count": null,
   "id": "f3bc6527",
   "metadata": {},
   "outputs": [],
   "source": [
    "plt.hist(after_boxcox)\n",
    "plt.show()"
   ]
  },
  {
   "cell_type": "raw",
   "id": "77ab0d0a",
   "metadata": {},
   "source": [
    "Categorical Data Encoding"
   ]
  },
  {
   "cell_type": "code",
   "execution_count": null,
   "id": "4da86695",
   "metadata": {
    "scrolled": true
   },
   "outputs": [],
   "source": [
    "df['fuel-type'].unique() #Return all the unique values in the given Series"
   ]
  },
  {
   "cell_type": "code",
   "execution_count": null,
   "id": "55688d13",
   "metadata": {},
   "outputs": [],
   "source": [
    "# One Hot Coding\n",
    "\n",
    "one_hot = pd.get_dummies(df['fuel-type'],dtype='int')\n",
    "one_hot.head()"
   ]
  },
  {
   "cell_type": "code",
   "execution_count": null,
   "id": "51435518",
   "metadata": {},
   "outputs": [],
   "source": [
    "df['body-style'].unique()"
   ]
  },
  {
   "cell_type": "code",
   "execution_count": null,
   "id": "91d16933",
   "metadata": {},
   "outputs": [],
   "source": [
    "# Label Encoding\n",
    "\n",
    "from sklearn.preprocessing import LabelEncoder\n",
    "\n",
    "le = LabelEncoder()\n",
    "encoding = le.fit_transform(df['body-style'])\n",
    "encoding[:5]"
   ]
  },
  {
   "cell_type": "code",
   "execution_count": null,
   "id": "8bcfe5f2",
   "metadata": {},
   "outputs": [],
   "source": [
    "# The most frequent value\n",
    "\n",
    "#df['column name'].value_counts().idxmax()"
   ]
  },
  {
   "cell_type": "raw",
   "id": "54c9ea3a",
   "metadata": {},
   "source": [
    "Data Normalization or Scaling"
   ]
  },
  {
   "cell_type": "code",
   "execution_count": null,
   "id": "a4226600",
   "metadata": {},
   "outputs": [],
   "source": [
    "import pandas as pd\n",
    "\n",
    "df = pd.read_csv('eda.csv')\n",
    "df.info()"
   ]
  },
  {
   "cell_type": "raw",
   "id": "88e7872b",
   "metadata": {},
   "source": [
    "Types of Scaling:\n",
    "\n",
    "Standard Scaling: Scale you data such that the mean becomes 0 and standard deviation becomes 1. (Standard Normal Distribution)\n",
    "\n",
    "x(scaled) = (x-mean(x))/std(x)\n",
    "\n",
    "Min Max Scaling: Scale the data between 0 and 1\n",
    "\n",
    "x(scaled) = (x-min(x))/(max(x)-min(x))"
   ]
  },
  {
   "cell_type": "code",
   "execution_count": null,
   "id": "5ff22729",
   "metadata": {},
   "outputs": [],
   "source": [
    "df['engine-size'].mean()"
   ]
  },
  {
   "cell_type": "code",
   "execution_count": null,
   "id": "47d4fcbb",
   "metadata": {},
   "outputs": [],
   "source": [
    "df['engine-size'].std()"
   ]
  },
  {
   "cell_type": "code",
   "execution_count": null,
   "id": "7876604e",
   "metadata": {},
   "outputs": [],
   "source": [
    "df['engine-size'].head()"
   ]
  },
  {
   "cell_type": "code",
   "execution_count": null,
   "id": "d26b2297",
   "metadata": {},
   "outputs": [],
   "source": [
    "# Standard Scaling\n",
    "\n",
    "from sklearn.preprocessing import StandardScaler\n",
    "\n",
    "scaler = StandardScaler()\n",
    "result = scaler.fit_transform(df.loc[:,['engine-size']])\n",
    "result[:5]"
   ]
  },
  {
   "cell_type": "code",
   "execution_count": null,
   "id": "b33d594c",
   "metadata": {},
   "outputs": [],
   "source": [
    "result.mean()"
   ]
  },
  {
   "cell_type": "code",
   "execution_count": null,
   "id": "94d9412d",
   "metadata": {},
   "outputs": [],
   "source": [
    "result.std()"
   ]
  },
  {
   "cell_type": "code",
   "execution_count": null,
   "id": "b3e0574a",
   "metadata": {
    "scrolled": true
   },
   "outputs": [],
   "source": [
    "df['engine-size'].min()"
   ]
  },
  {
   "cell_type": "code",
   "execution_count": null,
   "id": "e0a2f841",
   "metadata": {},
   "outputs": [],
   "source": [
    "df['engine-size'].max()"
   ]
  },
  {
   "cell_type": "code",
   "execution_count": null,
   "id": "2c861a35",
   "metadata": {},
   "outputs": [],
   "source": [
    "from sklearn.preprocessing import MinMaxScaler\n",
    "\n",
    "scaler = MinMaxScaler()\n",
    "result = scaler.fit_transform(df[['engine-size']])\n",
    "result[:5]"
   ]
  },
  {
   "cell_type": "code",
   "execution_count": null,
   "id": "d37b40d7",
   "metadata": {},
   "outputs": [],
   "source": [
    "result.min()"
   ]
  },
  {
   "cell_type": "code",
   "execution_count": null,
   "id": "e30181b6",
   "metadata": {
    "scrolled": true
   },
   "outputs": [],
   "source": [
    "result.max()"
   ]
  },
  {
   "cell_type": "code",
   "execution_count": 2,
   "id": "1efd27f1",
   "metadata": {},
   "outputs": [
    {
     "data": {
      "text/html": [
       "<div>\n",
       "<style scoped>\n",
       "    .dataframe tbody tr th:only-of-type {\n",
       "        vertical-align: middle;\n",
       "    }\n",
       "\n",
       "    .dataframe tbody tr th {\n",
       "        vertical-align: top;\n",
       "    }\n",
       "\n",
       "    .dataframe thead th {\n",
       "        text-align: right;\n",
       "    }\n",
       "</style>\n",
       "<table border=\"1\" class=\"dataframe\">\n",
       "  <thead>\n",
       "    <tr style=\"text-align: right;\">\n",
       "      <th></th>\n",
       "      <th>symboling</th>\n",
       "      <th>normalized-losses</th>\n",
       "      <th>make</th>\n",
       "      <th>fuel-type</th>\n",
       "      <th>body-style</th>\n",
       "      <th>drive-wheels</th>\n",
       "      <th>engine-location</th>\n",
       "      <th>width</th>\n",
       "      <th>height</th>\n",
       "      <th>engine-type</th>\n",
       "      <th>engine-size</th>\n",
       "      <th>horsepower</th>\n",
       "      <th>city-mpg</th>\n",
       "      <th>highway-mpg</th>\n",
       "      <th>price</th>\n",
       "    </tr>\n",
       "  </thead>\n",
       "  <tbody>\n",
       "    <tr>\n",
       "      <th>0</th>\n",
       "      <td>3</td>\n",
       "      <td>NaN</td>\n",
       "      <td>alfa-romero</td>\n",
       "      <td>gas</td>\n",
       "      <td>convertible</td>\n",
       "      <td>rwd</td>\n",
       "      <td>front</td>\n",
       "      <td>64.1</td>\n",
       "      <td>48.8</td>\n",
       "      <td>dohc</td>\n",
       "      <td>130</td>\n",
       "      <td>111.0</td>\n",
       "      <td>21</td>\n",
       "      <td>27</td>\n",
       "      <td>13495</td>\n",
       "    </tr>\n",
       "    <tr>\n",
       "      <th>1</th>\n",
       "      <td>3</td>\n",
       "      <td>NaN</td>\n",
       "      <td>alfa-romero</td>\n",
       "      <td>gas</td>\n",
       "      <td>convertible</td>\n",
       "      <td>rwd</td>\n",
       "      <td>front</td>\n",
       "      <td>64.1</td>\n",
       "      <td>48.8</td>\n",
       "      <td>dohc</td>\n",
       "      <td>130</td>\n",
       "      <td>111.0</td>\n",
       "      <td>21</td>\n",
       "      <td>27</td>\n",
       "      <td>16500</td>\n",
       "    </tr>\n",
       "    <tr>\n",
       "      <th>2</th>\n",
       "      <td>1</td>\n",
       "      <td>NaN</td>\n",
       "      <td>alfa-romero</td>\n",
       "      <td>gas</td>\n",
       "      <td>hatchback</td>\n",
       "      <td>rwd</td>\n",
       "      <td>front</td>\n",
       "      <td>65.5</td>\n",
       "      <td>52.4</td>\n",
       "      <td>ohcv</td>\n",
       "      <td>152</td>\n",
       "      <td>154.0</td>\n",
       "      <td>19</td>\n",
       "      <td>26</td>\n",
       "      <td>16500</td>\n",
       "    </tr>\n",
       "    <tr>\n",
       "      <th>3</th>\n",
       "      <td>2</td>\n",
       "      <td>164.0</td>\n",
       "      <td>audi</td>\n",
       "      <td>gas</td>\n",
       "      <td>sedan</td>\n",
       "      <td>fwd</td>\n",
       "      <td>front</td>\n",
       "      <td>66.2</td>\n",
       "      <td>54.3</td>\n",
       "      <td>ohc</td>\n",
       "      <td>109</td>\n",
       "      <td>102.0</td>\n",
       "      <td>24</td>\n",
       "      <td>30</td>\n",
       "      <td>13950</td>\n",
       "    </tr>\n",
       "    <tr>\n",
       "      <th>4</th>\n",
       "      <td>2</td>\n",
       "      <td>164.0</td>\n",
       "      <td>audi</td>\n",
       "      <td>gas</td>\n",
       "      <td>sedan</td>\n",
       "      <td>4wd</td>\n",
       "      <td>front</td>\n",
       "      <td>66.4</td>\n",
       "      <td>54.3</td>\n",
       "      <td>ohc</td>\n",
       "      <td>136</td>\n",
       "      <td>115.0</td>\n",
       "      <td>18</td>\n",
       "      <td>22</td>\n",
       "      <td>17450</td>\n",
       "    </tr>\n",
       "    <tr>\n",
       "      <th>...</th>\n",
       "      <td>...</td>\n",
       "      <td>...</td>\n",
       "      <td>...</td>\n",
       "      <td>...</td>\n",
       "      <td>...</td>\n",
       "      <td>...</td>\n",
       "      <td>...</td>\n",
       "      <td>...</td>\n",
       "      <td>...</td>\n",
       "      <td>...</td>\n",
       "      <td>...</td>\n",
       "      <td>...</td>\n",
       "      <td>...</td>\n",
       "      <td>...</td>\n",
       "      <td>...</td>\n",
       "    </tr>\n",
       "    <tr>\n",
       "      <th>200</th>\n",
       "      <td>-1</td>\n",
       "      <td>95.0</td>\n",
       "      <td>volvo</td>\n",
       "      <td>gas</td>\n",
       "      <td>sedan</td>\n",
       "      <td>rwd</td>\n",
       "      <td>front</td>\n",
       "      <td>68.9</td>\n",
       "      <td>55.5</td>\n",
       "      <td>ohc</td>\n",
       "      <td>141</td>\n",
       "      <td>114.0</td>\n",
       "      <td>23</td>\n",
       "      <td>28</td>\n",
       "      <td>16845</td>\n",
       "    </tr>\n",
       "    <tr>\n",
       "      <th>201</th>\n",
       "      <td>-1</td>\n",
       "      <td>95.0</td>\n",
       "      <td>volvo</td>\n",
       "      <td>gas</td>\n",
       "      <td>sedan</td>\n",
       "      <td>rwd</td>\n",
       "      <td>front</td>\n",
       "      <td>68.8</td>\n",
       "      <td>55.5</td>\n",
       "      <td>ohc</td>\n",
       "      <td>141</td>\n",
       "      <td>160.0</td>\n",
       "      <td>19</td>\n",
       "      <td>25</td>\n",
       "      <td>19045</td>\n",
       "    </tr>\n",
       "    <tr>\n",
       "      <th>202</th>\n",
       "      <td>-1</td>\n",
       "      <td>95.0</td>\n",
       "      <td>volvo</td>\n",
       "      <td>gas</td>\n",
       "      <td>sedan</td>\n",
       "      <td>rwd</td>\n",
       "      <td>front</td>\n",
       "      <td>68.9</td>\n",
       "      <td>55.5</td>\n",
       "      <td>ohcv</td>\n",
       "      <td>173</td>\n",
       "      <td>134.0</td>\n",
       "      <td>18</td>\n",
       "      <td>23</td>\n",
       "      <td>21485</td>\n",
       "    </tr>\n",
       "    <tr>\n",
       "      <th>203</th>\n",
       "      <td>-1</td>\n",
       "      <td>95.0</td>\n",
       "      <td>volvo</td>\n",
       "      <td>diesel</td>\n",
       "      <td>sedan</td>\n",
       "      <td>rwd</td>\n",
       "      <td>front</td>\n",
       "      <td>68.9</td>\n",
       "      <td>55.5</td>\n",
       "      <td>ohc</td>\n",
       "      <td>145</td>\n",
       "      <td>106.0</td>\n",
       "      <td>26</td>\n",
       "      <td>27</td>\n",
       "      <td>22470</td>\n",
       "    </tr>\n",
       "    <tr>\n",
       "      <th>204</th>\n",
       "      <td>-1</td>\n",
       "      <td>95.0</td>\n",
       "      <td>volvo</td>\n",
       "      <td>gas</td>\n",
       "      <td>sedan</td>\n",
       "      <td>rwd</td>\n",
       "      <td>front</td>\n",
       "      <td>68.9</td>\n",
       "      <td>55.5</td>\n",
       "      <td>ohc</td>\n",
       "      <td>141</td>\n",
       "      <td>114.0</td>\n",
       "      <td>19</td>\n",
       "      <td>25</td>\n",
       "      <td>22625</td>\n",
       "    </tr>\n",
       "  </tbody>\n",
       "</table>\n",
       "<p>205 rows × 15 columns</p>\n",
       "</div>"
      ],
      "text/plain": [
       "     symboling  normalized-losses         make fuel-type   body-style  \\\n",
       "0            3                NaN  alfa-romero       gas  convertible   \n",
       "1            3                NaN  alfa-romero       gas  convertible   \n",
       "2            1                NaN  alfa-romero       gas    hatchback   \n",
       "3            2              164.0         audi       gas        sedan   \n",
       "4            2              164.0         audi       gas        sedan   \n",
       "..         ...                ...          ...       ...          ...   \n",
       "200         -1               95.0        volvo       gas        sedan   \n",
       "201         -1               95.0        volvo       gas        sedan   \n",
       "202         -1               95.0        volvo       gas        sedan   \n",
       "203         -1               95.0        volvo    diesel        sedan   \n",
       "204         -1               95.0        volvo       gas        sedan   \n",
       "\n",
       "    drive-wheels engine-location  width  height engine-type  engine-size  \\\n",
       "0            rwd           front   64.1    48.8        dohc          130   \n",
       "1            rwd           front   64.1    48.8        dohc          130   \n",
       "2            rwd           front   65.5    52.4        ohcv          152   \n",
       "3            fwd           front   66.2    54.3         ohc          109   \n",
       "4            4wd           front   66.4    54.3         ohc          136   \n",
       "..           ...             ...    ...     ...         ...          ...   \n",
       "200          rwd           front   68.9    55.5         ohc          141   \n",
       "201          rwd           front   68.8    55.5         ohc          141   \n",
       "202          rwd           front   68.9    55.5        ohcv          173   \n",
       "203          rwd           front   68.9    55.5         ohc          145   \n",
       "204          rwd           front   68.9    55.5         ohc          141   \n",
       "\n",
       "     horsepower  city-mpg  highway-mpg  price  \n",
       "0         111.0        21           27  13495  \n",
       "1         111.0        21           27  16500  \n",
       "2         154.0        19           26  16500  \n",
       "3         102.0        24           30  13950  \n",
       "4         115.0        18           22  17450  \n",
       "..          ...       ...          ...    ...  \n",
       "200       114.0        23           28  16845  \n",
       "201       160.0        19           25  19045  \n",
       "202       134.0        18           23  21485  \n",
       "203       106.0        26           27  22470  \n",
       "204       114.0        19           25  22625  \n",
       "\n",
       "[205 rows x 15 columns]"
      ]
     },
     "execution_count": 2,
     "metadata": {},
     "output_type": "execute_result"
    }
   ],
   "source": [
    "import pandas as pd \n",
    "\n",
    "df=pd.read_csv('eda.csv')\n",
    "df"
   ]
  },
  {
   "cell_type": "code",
   "execution_count": null,
   "id": "f7fd478a",
   "metadata": {},
   "outputs": [],
   "source": []
  }
 ],
 "metadata": {
  "kernelspec": {
   "display_name": "Python 3 (ipykernel)",
   "language": "python",
   "name": "python3"
  },
  "language_info": {
   "codemirror_mode": {
    "name": "ipython",
    "version": 3
   },
   "file_extension": ".py",
   "mimetype": "text/x-python",
   "name": "python",
   "nbconvert_exporter": "python",
   "pygments_lexer": "ipython3",
   "version": "3.9.13"
  }
 },
 "nbformat": 4,
 "nbformat_minor": 5
}
