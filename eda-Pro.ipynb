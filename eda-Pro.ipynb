{
 "cells": [
  {
   "cell_type": "code",
   "execution_count": 1,
   "id": "c87fdec6",
   "metadata": {},
   "outputs": [],
   "source": [
    "import pandas as pd"
   ]
  },
  {
   "cell_type": "code",
   "execution_count": 2,
   "id": "fd59ae2c",
   "metadata": {},
   "outputs": [
    {
     "data": {
      "text/html": [
       "<div>\n",
       "<style scoped>\n",
       "    .dataframe tbody tr th:only-of-type {\n",
       "        vertical-align: middle;\n",
       "    }\n",
       "\n",
       "    .dataframe tbody tr th {\n",
       "        vertical-align: top;\n",
       "    }\n",
       "\n",
       "    .dataframe thead th {\n",
       "        text-align: right;\n",
       "    }\n",
       "</style>\n",
       "<table border=\"1\" class=\"dataframe\">\n",
       "  <thead>\n",
       "    <tr style=\"text-align: right;\">\n",
       "      <th></th>\n",
       "      <th>Title</th>\n",
       "      <th>Category Name</th>\n",
       "      <th>Experience</th>\n",
       "      <th>Sub Category Name</th>\n",
       "      <th>Currency</th>\n",
       "      <th>Budget</th>\n",
       "      <th>Location</th>\n",
       "      <th>Freelancer Preferred From</th>\n",
       "      <th>Type</th>\n",
       "      <th>Date Posted</th>\n",
       "      <th>Description</th>\n",
       "      <th>Duration</th>\n",
       "      <th>Client Registration Date</th>\n",
       "      <th>Client City</th>\n",
       "      <th>Client Country</th>\n",
       "      <th>Client Currency</th>\n",
       "      <th>Client Job Title</th>\n",
       "    </tr>\n",
       "  </thead>\n",
       "  <tbody>\n",
       "    <tr>\n",
       "      <th>0</th>\n",
       "      <td>Banner images for web desgin websites</td>\n",
       "      <td>Design</td>\n",
       "      <td>Entry ($)</td>\n",
       "      <td>Graphic Design</td>\n",
       "      <td>EUR</td>\n",
       "      <td>60.0</td>\n",
       "      <td>remote</td>\n",
       "      <td>ALL</td>\n",
       "      <td>fixed_price</td>\n",
       "      <td>2023-04-29 18:06:39</td>\n",
       "      <td>We are looking to improve the banner images on...</td>\n",
       "      <td>NaN</td>\n",
       "      <td>2010-11-03</td>\n",
       "      <td>Dublin</td>\n",
       "      <td>Ireland</td>\n",
       "      <td>EUR</td>\n",
       "      <td>PPC Management</td>\n",
       "    </tr>\n",
       "    <tr>\n",
       "      <th>1</th>\n",
       "      <td>Make my picture a solid silhouette</td>\n",
       "      <td>Video, Photo &amp; Image</td>\n",
       "      <td>Entry ($)</td>\n",
       "      <td>Image Editing</td>\n",
       "      <td>GBP</td>\n",
       "      <td>20.0</td>\n",
       "      <td>remote</td>\n",
       "      <td>ALL</td>\n",
       "      <td>fixed_price</td>\n",
       "      <td>2023-04-29 17:40:28</td>\n",
       "      <td>Hello \\n\\nI need a quick designer to make 4 pi...</td>\n",
       "      <td>NaN</td>\n",
       "      <td>2017-02-21</td>\n",
       "      <td>London</td>\n",
       "      <td>United Kingdom</td>\n",
       "      <td>GBP</td>\n",
       "      <td>Office manager</td>\n",
       "    </tr>\n",
       "    <tr>\n",
       "      <th>2</th>\n",
       "      <td>Bookkeeper needed</td>\n",
       "      <td>Business</td>\n",
       "      <td>Entry ($)</td>\n",
       "      <td>Finance &amp; Accounting</td>\n",
       "      <td>GBP</td>\n",
       "      <td>12.0</td>\n",
       "      <td>remote</td>\n",
       "      <td>ALL</td>\n",
       "      <td>fixed_price</td>\n",
       "      <td>2023-04-29 17:40:06</td>\n",
       "      <td>Hi - I need a bookkeeper to assist with bookke...</td>\n",
       "      <td>NaN</td>\n",
       "      <td>2023-04-09</td>\n",
       "      <td>London</td>\n",
       "      <td>United Kingdom</td>\n",
       "      <td>GBP</td>\n",
       "      <td>Paralegal</td>\n",
       "    </tr>\n",
       "    <tr>\n",
       "      <th>3</th>\n",
       "      <td>Accountant needed</td>\n",
       "      <td>Business</td>\n",
       "      <td>Entry ($)</td>\n",
       "      <td>Tax Consulting &amp; Advising</td>\n",
       "      <td>GBP</td>\n",
       "      <td>14.0</td>\n",
       "      <td>remote</td>\n",
       "      <td>ALL</td>\n",
       "      <td>fixed_price</td>\n",
       "      <td>2023-04-29 17:32:01</td>\n",
       "      <td>Hi - I need an accountant to assist me with un...</td>\n",
       "      <td>NaN</td>\n",
       "      <td>2023-04-09</td>\n",
       "      <td>London</td>\n",
       "      <td>United Kingdom</td>\n",
       "      <td>GBP</td>\n",
       "      <td>Paralegal</td>\n",
       "    </tr>\n",
       "    <tr>\n",
       "      <th>4</th>\n",
       "      <td>Guest Post on High DA Website</td>\n",
       "      <td>Digital Marketing</td>\n",
       "      <td>Expert ($$$)</td>\n",
       "      <td>SEO</td>\n",
       "      <td>USD</td>\n",
       "      <td>10000.0</td>\n",
       "      <td>remote</td>\n",
       "      <td>ALL</td>\n",
       "      <td>fixed_price</td>\n",
       "      <td>2023-04-29 17:09:36</td>\n",
       "      <td>Hi, I am currently running a project where I w...</td>\n",
       "      <td>NaN</td>\n",
       "      <td>2016-07-01</td>\n",
       "      <td>Mumbai</td>\n",
       "      <td>India</td>\n",
       "      <td>USD</td>\n",
       "      <td>Guest posts buyer</td>\n",
       "    </tr>\n",
       "  </tbody>\n",
       "</table>\n",
       "</div>"
      ],
      "text/plain": [
       "                                   Title         Category Name    Experience  \\\n",
       "0  Banner images for web desgin websites                Design     Entry ($)   \n",
       "1    Make my picture a solid silhouette   Video, Photo & Image     Entry ($)   \n",
       "2                      Bookkeeper needed              Business     Entry ($)   \n",
       "3                     Accountant needed               Business     Entry ($)   \n",
       "4          Guest Post on High DA Website     Digital Marketing  Expert ($$$)   \n",
       "\n",
       "           Sub Category Name Currency   Budget Location  \\\n",
       "0             Graphic Design      EUR     60.0   remote   \n",
       "1              Image Editing      GBP     20.0   remote   \n",
       "2       Finance & Accounting      GBP     12.0   remote   \n",
       "3  Tax Consulting & Advising      GBP     14.0   remote   \n",
       "4                        SEO      USD  10000.0   remote   \n",
       "\n",
       "  Freelancer Preferred From         Type          Date Posted  \\\n",
       "0                       ALL  fixed_price  2023-04-29 18:06:39   \n",
       "1                       ALL  fixed_price  2023-04-29 17:40:28   \n",
       "2                       ALL  fixed_price  2023-04-29 17:40:06   \n",
       "3                       ALL  fixed_price  2023-04-29 17:32:01   \n",
       "4                       ALL  fixed_price  2023-04-29 17:09:36   \n",
       "\n",
       "                                         Description Duration  \\\n",
       "0  We are looking to improve the banner images on...      NaN   \n",
       "1  Hello \\n\\nI need a quick designer to make 4 pi...      NaN   \n",
       "2  Hi - I need a bookkeeper to assist with bookke...      NaN   \n",
       "3  Hi - I need an accountant to assist me with un...      NaN   \n",
       "4  Hi, I am currently running a project where I w...      NaN   \n",
       "\n",
       "  Client Registration Date Client City  Client Country Client Currency  \\\n",
       "0               2010-11-03      Dublin         Ireland             EUR   \n",
       "1               2017-02-21      London  United Kingdom             GBP   \n",
       "2               2023-04-09      London  United Kingdom             GBP   \n",
       "3               2023-04-09      London  United Kingdom             GBP   \n",
       "4               2016-07-01      Mumbai           India             USD   \n",
       "\n",
       "    Client Job Title  \n",
       "0     PPC Management  \n",
       "1     Office manager  \n",
       "2          Paralegal  \n",
       "3          Paralegal  \n",
       "4  Guest posts buyer  "
      ]
     },
     "execution_count": 2,
     "metadata": {},
     "output_type": "execute_result"
    }
   ],
   "source": [
    "df=pd.read_csv('Freelance Platform Projects.csv')\n",
    "df.head()\n",
    "\n",
    "#imported CSV"
   ]
  },
  {
   "cell_type": "code",
   "execution_count": 3,
   "id": "ce27be8c",
   "metadata": {},
   "outputs": [
    {
     "data": {
      "text/plain": [
       "(12222, 17)"
      ]
     },
     "execution_count": 3,
     "metadata": {},
     "output_type": "execute_result"
    }
   ],
   "source": [
    "df.shape\n",
    "#checking shape of dataset"
   ]
  },
  {
   "cell_type": "code",
   "execution_count": 4,
   "id": "12a9775e",
   "metadata": {},
   "outputs": [
    {
     "name": "stdout",
     "output_type": "stream",
     "text": [
      "<class 'pandas.core.frame.DataFrame'>\n",
      "RangeIndex: 12222 entries, 0 to 12221\n",
      "Data columns (total 17 columns):\n",
      " #   Column                     Non-Null Count  Dtype  \n",
      "---  ------                     --------------  -----  \n",
      " 0   Title                      12222 non-null  object \n",
      " 1   Category Name              12222 non-null  object \n",
      " 2   Experience                 12222 non-null  object \n",
      " 3   Sub Category Name          12222 non-null  object \n",
      " 4   Currency                   12222 non-null  object \n",
      " 5   Budget                     12222 non-null  float64\n",
      " 6   Location                   12222 non-null  object \n",
      " 7   Freelancer Preferred From  12222 non-null  object \n",
      " 8   Type                       12222 non-null  object \n",
      " 9   Date Posted                12222 non-null  object \n",
      " 10  Description                12222 non-null  object \n",
      " 11  Duration                   1602 non-null   object \n",
      " 12  Client Registration Date   12222 non-null  object \n",
      " 13  Client City                12222 non-null  object \n",
      " 14  Client Country             12222 non-null  object \n",
      " 15  Client Currency            12222 non-null  object \n",
      " 16  Client Job Title           4588 non-null   object \n",
      "dtypes: float64(1), object(16)\n",
      "memory usage: 1.6+ MB\n"
     ]
    }
   ],
   "source": [
    "df.info()\n",
    "#this command help to provide all information like datatypes , null counts and name of columns in data set."
   ]
  },
  {
   "cell_type": "code",
   "execution_count": 5,
   "id": "c4e005a7",
   "metadata": {},
   "outputs": [
    {
     "data": {
      "text/plain": [
       "array(['EUR', 'GBP', 'USD'], dtype=object)"
      ]
     },
     "execution_count": 5,
     "metadata": {},
     "output_type": "execute_result"
    }
   ],
   "source": [
    "df['Currency'].unique()"
   ]
  },
  {
   "cell_type": "code",
   "execution_count": 6,
   "id": "3ecaf24f",
   "metadata": {},
   "outputs": [],
   "source": [
    "def convert_to_usd(data):\n",
    "    conversion = {'EUR': 1.07, 'GBP': 1.24, 'USD': 1}\n",
    "    data['Budget'] = [data.loc[i,'Budget'] * conversion[data.loc[i,'Currency']] for i in data.index]\n",
    "    data.drop(columns=['Currency'], axis=1, inplace=True)\n",
    "    return data\n",
    "\n",
    "#making data more fesiable"
   ]
  },
  {
   "cell_type": "code",
   "execution_count": 7,
   "id": "7258bd6c",
   "metadata": {},
   "outputs": [
    {
     "data": {
      "text/html": [
       "<div>\n",
       "<style scoped>\n",
       "    .dataframe tbody tr th:only-of-type {\n",
       "        vertical-align: middle;\n",
       "    }\n",
       "\n",
       "    .dataframe tbody tr th {\n",
       "        vertical-align: top;\n",
       "    }\n",
       "\n",
       "    .dataframe thead th {\n",
       "        text-align: right;\n",
       "    }\n",
       "</style>\n",
       "<table border=\"1\" class=\"dataframe\">\n",
       "  <thead>\n",
       "    <tr style=\"text-align: right;\">\n",
       "      <th></th>\n",
       "      <th>Title</th>\n",
       "      <th>Category Name</th>\n",
       "      <th>Experience</th>\n",
       "      <th>Sub Category Name</th>\n",
       "      <th>Budget</th>\n",
       "      <th>Location</th>\n",
       "      <th>Freelancer Preferred From</th>\n",
       "      <th>Type</th>\n",
       "      <th>Date Posted</th>\n",
       "      <th>Description</th>\n",
       "      <th>Duration</th>\n",
       "      <th>Client Registration Date</th>\n",
       "      <th>Client City</th>\n",
       "      <th>Client Country</th>\n",
       "      <th>Client Currency</th>\n",
       "      <th>Client Job Title</th>\n",
       "    </tr>\n",
       "  </thead>\n",
       "  <tbody>\n",
       "    <tr>\n",
       "      <th>0</th>\n",
       "      <td>Banner images for web desgin websites</td>\n",
       "      <td>Design</td>\n",
       "      <td>Entry ($)</td>\n",
       "      <td>Graphic Design</td>\n",
       "      <td>64.20</td>\n",
       "      <td>remote</td>\n",
       "      <td>ALL</td>\n",
       "      <td>fixed_price</td>\n",
       "      <td>2023-04-29 18:06:39</td>\n",
       "      <td>We are looking to improve the banner images on...</td>\n",
       "      <td>NaN</td>\n",
       "      <td>2010-11-03</td>\n",
       "      <td>Dublin</td>\n",
       "      <td>Ireland</td>\n",
       "      <td>EUR</td>\n",
       "      <td>PPC Management</td>\n",
       "    </tr>\n",
       "    <tr>\n",
       "      <th>1</th>\n",
       "      <td>Make my picture a solid silhouette</td>\n",
       "      <td>Video, Photo &amp; Image</td>\n",
       "      <td>Entry ($)</td>\n",
       "      <td>Image Editing</td>\n",
       "      <td>24.80</td>\n",
       "      <td>remote</td>\n",
       "      <td>ALL</td>\n",
       "      <td>fixed_price</td>\n",
       "      <td>2023-04-29 17:40:28</td>\n",
       "      <td>Hello \\n\\nI need a quick designer to make 4 pi...</td>\n",
       "      <td>NaN</td>\n",
       "      <td>2017-02-21</td>\n",
       "      <td>London</td>\n",
       "      <td>United Kingdom</td>\n",
       "      <td>GBP</td>\n",
       "      <td>Office manager</td>\n",
       "    </tr>\n",
       "    <tr>\n",
       "      <th>2</th>\n",
       "      <td>Bookkeeper needed</td>\n",
       "      <td>Business</td>\n",
       "      <td>Entry ($)</td>\n",
       "      <td>Finance &amp; Accounting</td>\n",
       "      <td>14.88</td>\n",
       "      <td>remote</td>\n",
       "      <td>ALL</td>\n",
       "      <td>fixed_price</td>\n",
       "      <td>2023-04-29 17:40:06</td>\n",
       "      <td>Hi - I need a bookkeeper to assist with bookke...</td>\n",
       "      <td>NaN</td>\n",
       "      <td>2023-04-09</td>\n",
       "      <td>London</td>\n",
       "      <td>United Kingdom</td>\n",
       "      <td>GBP</td>\n",
       "      <td>Paralegal</td>\n",
       "    </tr>\n",
       "    <tr>\n",
       "      <th>3</th>\n",
       "      <td>Accountant needed</td>\n",
       "      <td>Business</td>\n",
       "      <td>Entry ($)</td>\n",
       "      <td>Tax Consulting &amp; Advising</td>\n",
       "      <td>17.36</td>\n",
       "      <td>remote</td>\n",
       "      <td>ALL</td>\n",
       "      <td>fixed_price</td>\n",
       "      <td>2023-04-29 17:32:01</td>\n",
       "      <td>Hi - I need an accountant to assist me with un...</td>\n",
       "      <td>NaN</td>\n",
       "      <td>2023-04-09</td>\n",
       "      <td>London</td>\n",
       "      <td>United Kingdom</td>\n",
       "      <td>GBP</td>\n",
       "      <td>Paralegal</td>\n",
       "    </tr>\n",
       "    <tr>\n",
       "      <th>4</th>\n",
       "      <td>Guest Post on High DA Website</td>\n",
       "      <td>Digital Marketing</td>\n",
       "      <td>Expert ($$$)</td>\n",
       "      <td>SEO</td>\n",
       "      <td>10000.00</td>\n",
       "      <td>remote</td>\n",
       "      <td>ALL</td>\n",
       "      <td>fixed_price</td>\n",
       "      <td>2023-04-29 17:09:36</td>\n",
       "      <td>Hi, I am currently running a project where I w...</td>\n",
       "      <td>NaN</td>\n",
       "      <td>2016-07-01</td>\n",
       "      <td>Mumbai</td>\n",
       "      <td>India</td>\n",
       "      <td>USD</td>\n",
       "      <td>Guest posts buyer</td>\n",
       "    </tr>\n",
       "  </tbody>\n",
       "</table>\n",
       "</div>"
      ],
      "text/plain": [
       "                                   Title         Category Name    Experience  \\\n",
       "0  Banner images for web desgin websites                Design     Entry ($)   \n",
       "1    Make my picture a solid silhouette   Video, Photo & Image     Entry ($)   \n",
       "2                      Bookkeeper needed              Business     Entry ($)   \n",
       "3                     Accountant needed               Business     Entry ($)   \n",
       "4          Guest Post on High DA Website     Digital Marketing  Expert ($$$)   \n",
       "\n",
       "           Sub Category Name    Budget Location Freelancer Preferred From  \\\n",
       "0             Graphic Design     64.20   remote                       ALL   \n",
       "1              Image Editing     24.80   remote                       ALL   \n",
       "2       Finance & Accounting     14.88   remote                       ALL   \n",
       "3  Tax Consulting & Advising     17.36   remote                       ALL   \n",
       "4                        SEO  10000.00   remote                       ALL   \n",
       "\n",
       "          Type          Date Posted  \\\n",
       "0  fixed_price  2023-04-29 18:06:39   \n",
       "1  fixed_price  2023-04-29 17:40:28   \n",
       "2  fixed_price  2023-04-29 17:40:06   \n",
       "3  fixed_price  2023-04-29 17:32:01   \n",
       "4  fixed_price  2023-04-29 17:09:36   \n",
       "\n",
       "                                         Description Duration  \\\n",
       "0  We are looking to improve the banner images on...      NaN   \n",
       "1  Hello \\n\\nI need a quick designer to make 4 pi...      NaN   \n",
       "2  Hi - I need a bookkeeper to assist with bookke...      NaN   \n",
       "3  Hi - I need an accountant to assist me with un...      NaN   \n",
       "4  Hi, I am currently running a project where I w...      NaN   \n",
       "\n",
       "  Client Registration Date Client City  Client Country Client Currency  \\\n",
       "0               2010-11-03      Dublin         Ireland             EUR   \n",
       "1               2017-02-21      London  United Kingdom             GBP   \n",
       "2               2023-04-09      London  United Kingdom             GBP   \n",
       "3               2023-04-09      London  United Kingdom             GBP   \n",
       "4               2016-07-01      Mumbai           India             USD   \n",
       "\n",
       "    Client Job Title  \n",
       "0     PPC Management  \n",
       "1     Office manager  \n",
       "2          Paralegal  \n",
       "3          Paralegal  \n",
       "4  Guest posts buyer  "
      ]
     },
     "execution_count": 7,
     "metadata": {},
     "output_type": "execute_result"
    }
   ],
   "source": [
    "df = convert_to_usd(df)\n",
    "df.head()\n",
    "#making data more fesiable"
   ]
  },
  {
   "cell_type": "code",
   "execution_count": 8,
   "id": "92b6c702",
   "metadata": {},
   "outputs": [
    {
     "data": {
      "text/plain": [
       "Title                            0\n",
       "Category Name                    0\n",
       "Experience                       0\n",
       "Sub Category Name                0\n",
       "Budget                           0\n",
       "Location                         0\n",
       "Freelancer Preferred From        0\n",
       "Type                             0\n",
       "Date Posted                      0\n",
       "Description                      0\n",
       "Duration                     10620\n",
       "Client Registration Date         0\n",
       "Client City                      0\n",
       "Client Country                   0\n",
       "Client Currency                  0\n",
       "Client Job Title              7634\n",
       "dtype: int64"
      ]
     },
     "execution_count": 8,
     "metadata": {},
     "output_type": "execute_result"
    }
   ],
   "source": [
    "df.isna().sum()\n",
    "\n",
    "#here checking all null values from the dataset"
   ]
  },
  {
   "cell_type": "code",
   "execution_count": 9,
   "id": "43f670b5",
   "metadata": {},
   "outputs": [
    {
     "name": "stdout",
     "output_type": "stream",
     "text": [
      "shape of df:(12222, 16)\n",
      "shape of newdf:(12222, 14)\n"
     ]
    }
   ],
   "source": [
    "newdf = df.dropna(axis =1)\n",
    "print('shape of df:{}'.format(df.shape))\n",
    "print('shape of newdf:{}'.format(newdf.shape))\n",
    "\n",
    "#droped null values and saved in newdataset insted of changing ori data set"
   ]
  },
  {
   "cell_type": "code",
   "execution_count": 10,
   "id": "c13cd68d",
   "metadata": {},
   "outputs": [
    {
     "data": {
      "text/plain": [
       "265.8107691048928"
      ]
     },
     "execution_count": 10,
     "metadata": {},
     "output_type": "execute_result"
    }
   ],
   "source": [
    "#imputation(fill with value)\n",
    "\n",
    "mean = df['Budget'].mean()\n",
    "mean "
   ]
  },
  {
   "cell_type": "code",
   "execution_count": 11,
   "id": "a7ec03e2",
   "metadata": {},
   "outputs": [],
   "source": [
    "df['Duration'].fillna(mean,inplace=True) \n",
    "\n",
    "#taken mean of onr column values and imputed to null values."
   ]
  },
  {
   "cell_type": "code",
   "execution_count": 12,
   "id": "c3d7ee5b",
   "metadata": {},
   "outputs": [
    {
     "data": {
      "text/plain": [
       "Title                           0\n",
       "Category Name                   0\n",
       "Experience                      0\n",
       "Sub Category Name               0\n",
       "Budget                          0\n",
       "Location                        0\n",
       "Freelancer Preferred From       0\n",
       "Type                            0\n",
       "Date Posted                     0\n",
       "Description                     0\n",
       "Duration                        0\n",
       "Client Registration Date        0\n",
       "Client City                     0\n",
       "Client Country                  0\n",
       "Client Currency                 0\n",
       "Client Job Title             7634\n",
       "dtype: int64"
      ]
     },
     "execution_count": 12,
     "metadata": {},
     "output_type": "execute_result"
    }
   ],
   "source": [
    "df.isna().sum()"
   ]
  },
  {
   "cell_type": "code",
   "execution_count": 13,
   "id": "aa061243",
   "metadata": {},
   "outputs": [],
   "source": [
    "df['Client Job Title'].fillna(mean,inplace=True) "
   ]
  },
  {
   "cell_type": "code",
   "execution_count": 14,
   "id": "20dcc71f",
   "metadata": {
    "scrolled": false
   },
   "outputs": [
    {
     "data": {
      "text/plain": [
       "Title                        0\n",
       "Category Name                0\n",
       "Experience                   0\n",
       "Sub Category Name            0\n",
       "Budget                       0\n",
       "Location                     0\n",
       "Freelancer Preferred From    0\n",
       "Type                         0\n",
       "Date Posted                  0\n",
       "Description                  0\n",
       "Duration                     0\n",
       "Client Registration Date     0\n",
       "Client City                  0\n",
       "Client Country               0\n",
       "Client Currency              0\n",
       "Client Job Title             0\n",
       "dtype: int64"
      ]
     },
     "execution_count": 14,
     "metadata": {},
     "output_type": "execute_result"
    }
   ],
   "source": [
    "df.isna().sum()"
   ]
  },
  {
   "cell_type": "code",
   "execution_count": 15,
   "id": "cc43cf84",
   "metadata": {},
   "outputs": [
    {
     "data": {
      "text/html": [
       "<div>\n",
       "<style scoped>\n",
       "    .dataframe tbody tr th:only-of-type {\n",
       "        vertical-align: middle;\n",
       "    }\n",
       "\n",
       "    .dataframe tbody tr th {\n",
       "        vertical-align: top;\n",
       "    }\n",
       "\n",
       "    .dataframe thead th {\n",
       "        text-align: right;\n",
       "    }\n",
       "</style>\n",
       "<table border=\"1\" class=\"dataframe\">\n",
       "  <thead>\n",
       "    <tr style=\"text-align: right;\">\n",
       "      <th></th>\n",
       "      <th>Title</th>\n",
       "      <th>Category Name</th>\n",
       "      <th>Experience</th>\n",
       "      <th>Sub Category Name</th>\n",
       "      <th>Location</th>\n",
       "      <th>Freelancer Preferred From</th>\n",
       "      <th>Type</th>\n",
       "      <th>Date Posted</th>\n",
       "      <th>Description</th>\n",
       "      <th>Duration</th>\n",
       "      <th>Client Registration Date</th>\n",
       "      <th>Client City</th>\n",
       "      <th>Client Country</th>\n",
       "      <th>Client Currency</th>\n",
       "      <th>Client Job Title</th>\n",
       "    </tr>\n",
       "  </thead>\n",
       "  <tbody>\n",
       "    <tr>\n",
       "      <th>0</th>\n",
       "      <td>Banner images for web desgin websites</td>\n",
       "      <td>Design</td>\n",
       "      <td>Entry ($)</td>\n",
       "      <td>Graphic Design</td>\n",
       "      <td>remote</td>\n",
       "      <td>ALL</td>\n",
       "      <td>fixed_price</td>\n",
       "      <td>2023-04-29 18:06:39</td>\n",
       "      <td>We are looking to improve the banner images on...</td>\n",
       "      <td>265.810769</td>\n",
       "      <td>2010-11-03</td>\n",
       "      <td>Dublin</td>\n",
       "      <td>Ireland</td>\n",
       "      <td>EUR</td>\n",
       "      <td>PPC Management</td>\n",
       "    </tr>\n",
       "    <tr>\n",
       "      <th>1</th>\n",
       "      <td>Make my picture a solid silhouette</td>\n",
       "      <td>Video, Photo &amp; Image</td>\n",
       "      <td>Entry ($)</td>\n",
       "      <td>Image Editing</td>\n",
       "      <td>remote</td>\n",
       "      <td>ALL</td>\n",
       "      <td>fixed_price</td>\n",
       "      <td>2023-04-29 17:40:28</td>\n",
       "      <td>Hello \\n\\nI need a quick designer to make 4 pi...</td>\n",
       "      <td>265.810769</td>\n",
       "      <td>2017-02-21</td>\n",
       "      <td>London</td>\n",
       "      <td>United Kingdom</td>\n",
       "      <td>GBP</td>\n",
       "      <td>Office manager</td>\n",
       "    </tr>\n",
       "    <tr>\n",
       "      <th>2</th>\n",
       "      <td>Bookkeeper needed</td>\n",
       "      <td>Business</td>\n",
       "      <td>Entry ($)</td>\n",
       "      <td>Finance &amp; Accounting</td>\n",
       "      <td>remote</td>\n",
       "      <td>ALL</td>\n",
       "      <td>fixed_price</td>\n",
       "      <td>2023-04-29 17:40:06</td>\n",
       "      <td>Hi - I need a bookkeeper to assist with bookke...</td>\n",
       "      <td>265.810769</td>\n",
       "      <td>2023-04-09</td>\n",
       "      <td>London</td>\n",
       "      <td>United Kingdom</td>\n",
       "      <td>GBP</td>\n",
       "      <td>Paralegal</td>\n",
       "    </tr>\n",
       "    <tr>\n",
       "      <th>3</th>\n",
       "      <td>Accountant needed</td>\n",
       "      <td>Business</td>\n",
       "      <td>Entry ($)</td>\n",
       "      <td>Tax Consulting &amp; Advising</td>\n",
       "      <td>remote</td>\n",
       "      <td>ALL</td>\n",
       "      <td>fixed_price</td>\n",
       "      <td>2023-04-29 17:32:01</td>\n",
       "      <td>Hi - I need an accountant to assist me with un...</td>\n",
       "      <td>265.810769</td>\n",
       "      <td>2023-04-09</td>\n",
       "      <td>London</td>\n",
       "      <td>United Kingdom</td>\n",
       "      <td>GBP</td>\n",
       "      <td>Paralegal</td>\n",
       "    </tr>\n",
       "    <tr>\n",
       "      <th>4</th>\n",
       "      <td>Guest Post on High DA Website</td>\n",
       "      <td>Digital Marketing</td>\n",
       "      <td>Expert ($$$)</td>\n",
       "      <td>SEO</td>\n",
       "      <td>remote</td>\n",
       "      <td>ALL</td>\n",
       "      <td>fixed_price</td>\n",
       "      <td>2023-04-29 17:09:36</td>\n",
       "      <td>Hi, I am currently running a project where I w...</td>\n",
       "      <td>265.810769</td>\n",
       "      <td>2016-07-01</td>\n",
       "      <td>Mumbai</td>\n",
       "      <td>India</td>\n",
       "      <td>USD</td>\n",
       "      <td>Guest posts buyer</td>\n",
       "    </tr>\n",
       "  </tbody>\n",
       "</table>\n",
       "</div>"
      ],
      "text/plain": [
       "                                   Title         Category Name    Experience  \\\n",
       "0  Banner images for web desgin websites                Design     Entry ($)   \n",
       "1    Make my picture a solid silhouette   Video, Photo & Image     Entry ($)   \n",
       "2                      Bookkeeper needed              Business     Entry ($)   \n",
       "3                     Accountant needed               Business     Entry ($)   \n",
       "4          Guest Post on High DA Website     Digital Marketing  Expert ($$$)   \n",
       "\n",
       "           Sub Category Name Location Freelancer Preferred From         Type  \\\n",
       "0             Graphic Design   remote                       ALL  fixed_price   \n",
       "1              Image Editing   remote                       ALL  fixed_price   \n",
       "2       Finance & Accounting   remote                       ALL  fixed_price   \n",
       "3  Tax Consulting & Advising   remote                       ALL  fixed_price   \n",
       "4                        SEO   remote                       ALL  fixed_price   \n",
       "\n",
       "           Date Posted                                        Description  \\\n",
       "0  2023-04-29 18:06:39  We are looking to improve the banner images on...   \n",
       "1  2023-04-29 17:40:28  Hello \\n\\nI need a quick designer to make 4 pi...   \n",
       "2  2023-04-29 17:40:06  Hi - I need a bookkeeper to assist with bookke...   \n",
       "3  2023-04-29 17:32:01  Hi - I need an accountant to assist me with un...   \n",
       "4  2023-04-29 17:09:36  Hi, I am currently running a project where I w...   \n",
       "\n",
       "     Duration Client Registration Date Client City  Client Country  \\\n",
       "0  265.810769               2010-11-03      Dublin         Ireland   \n",
       "1  265.810769               2017-02-21      London  United Kingdom   \n",
       "2  265.810769               2023-04-09      London  United Kingdom   \n",
       "3  265.810769               2023-04-09      London  United Kingdom   \n",
       "4  265.810769               2016-07-01      Mumbai           India   \n",
       "\n",
       "  Client Currency   Client Job Title  \n",
       "0             EUR     PPC Management  \n",
       "1             GBP     Office manager  \n",
       "2             GBP          Paralegal  \n",
       "3             GBP          Paralegal  \n",
       "4             USD  Guest posts buyer  "
      ]
     },
     "execution_count": 15,
     "metadata": {},
     "output_type": "execute_result"
    }
   ],
   "source": [
    "df_cat = df.select_dtypes(object)\n",
    "df_cat.head()\n",
    "\n",
    "#assignmed one variable for checking objects"
   ]
  },
  {
   "cell_type": "code",
   "execution_count": 16,
   "id": "d1bf8c81",
   "metadata": {},
   "outputs": [
    {
     "data": {
      "text/html": [
       "<div>\n",
       "<style scoped>\n",
       "    .dataframe tbody tr th:only-of-type {\n",
       "        vertical-align: middle;\n",
       "    }\n",
       "\n",
       "    .dataframe tbody tr th {\n",
       "        vertical-align: top;\n",
       "    }\n",
       "\n",
       "    .dataframe thead th {\n",
       "        text-align: right;\n",
       "    }\n",
       "</style>\n",
       "<table border=\"1\" class=\"dataframe\">\n",
       "  <thead>\n",
       "    <tr style=\"text-align: right;\">\n",
       "      <th></th>\n",
       "    </tr>\n",
       "  </thead>\n",
       "  <tbody>\n",
       "    <tr>\n",
       "      <th>0</th>\n",
       "    </tr>\n",
       "    <tr>\n",
       "      <th>1</th>\n",
       "    </tr>\n",
       "    <tr>\n",
       "      <th>2</th>\n",
       "    </tr>\n",
       "    <tr>\n",
       "      <th>3</th>\n",
       "    </tr>\n",
       "    <tr>\n",
       "      <th>4</th>\n",
       "    </tr>\n",
       "    <tr>\n",
       "      <th>...</th>\n",
       "    </tr>\n",
       "    <tr>\n",
       "      <th>12217</th>\n",
       "    </tr>\n",
       "    <tr>\n",
       "      <th>12218</th>\n",
       "    </tr>\n",
       "    <tr>\n",
       "      <th>12219</th>\n",
       "    </tr>\n",
       "    <tr>\n",
       "      <th>12220</th>\n",
       "    </tr>\n",
       "    <tr>\n",
       "      <th>12221</th>\n",
       "    </tr>\n",
       "  </tbody>\n",
       "</table>\n",
       "<p>12222 rows × 0 columns</p>\n",
       "</div>"
      ],
      "text/plain": [
       "Empty DataFrame\n",
       "Columns: []\n",
       "Index: [0, 1, 2, 3, 4, 5, 6, 7, 8, 9, 10, 11, 12, 13, 14, 15, 16, 17, 18, 19, 20, 21, 22, 23, 24, 25, 26, 27, 28, 29, 30, 31, 32, 33, 34, 35, 36, 37, 38, 39, 40, 41, 42, 43, 44, 45, 46, 47, 48, 49, 50, 51, 52, 53, 54, 55, 56, 57, 58, 59, 60, 61, 62, 63, 64, 65, 66, 67, 68, 69, 70, 71, 72, 73, 74, 75, 76, 77, 78, 79, 80, 81, 82, 83, 84, 85, 86, 87, 88, 89, 90, 91, 92, 93, 94, 95, 96, 97, 98, 99, ...]\n",
       "\n",
       "[12222 rows x 0 columns]"
      ]
     },
     "execution_count": 16,
     "metadata": {},
     "output_type": "execute_result"
    }
   ],
   "source": [
    "df_num = df.select_dtypes('int64','float64')\n",
    "df_num\n",
    "\n",
    "#assignmed one variable for checking int64','float64',"
   ]
  },
  {
   "cell_type": "code",
   "execution_count": 17,
   "id": "eadcd7a2",
   "metadata": {},
   "outputs": [],
   "source": [
    "dty1=df.columns[df.dtypes==float]"
   ]
  },
  {
   "cell_type": "code",
   "execution_count": 18,
   "id": "c228c647",
   "metadata": {},
   "outputs": [],
   "source": [
    "from sklearn.preprocessing import LabelEncoder\n",
    "for i in dty1:\n",
    "    le=LabelEncoder()\n",
    "    df[i] = le.fit_transform(df[i])\n",
    "    \n",
    "    \n",
    "#labelEncoding done to convert object data to intdata"
   ]
  },
  {
   "cell_type": "code",
   "execution_count": 19,
   "id": "33674df7",
   "metadata": {},
   "outputs": [
    {
     "data": {
      "text/html": [
       "<div>\n",
       "<style scoped>\n",
       "    .dataframe tbody tr th:only-of-type {\n",
       "        vertical-align: middle;\n",
       "    }\n",
       "\n",
       "    .dataframe tbody tr th {\n",
       "        vertical-align: top;\n",
       "    }\n",
       "\n",
       "    .dataframe thead th {\n",
       "        text-align: right;\n",
       "    }\n",
       "</style>\n",
       "<table border=\"1\" class=\"dataframe\">\n",
       "  <thead>\n",
       "    <tr style=\"text-align: right;\">\n",
       "      <th></th>\n",
       "      <th>Title</th>\n",
       "      <th>Category Name</th>\n",
       "      <th>Experience</th>\n",
       "      <th>Sub Category Name</th>\n",
       "      <th>Budget</th>\n",
       "      <th>Location</th>\n",
       "      <th>Freelancer Preferred From</th>\n",
       "      <th>Type</th>\n",
       "      <th>Date Posted</th>\n",
       "      <th>Description</th>\n",
       "      <th>Duration</th>\n",
       "      <th>Client Registration Date</th>\n",
       "      <th>Client City</th>\n",
       "      <th>Client Country</th>\n",
       "      <th>Client Currency</th>\n",
       "      <th>Client Job Title</th>\n",
       "    </tr>\n",
       "  </thead>\n",
       "  <tbody>\n",
       "    <tr>\n",
       "      <th>0</th>\n",
       "      <td>Banner images for web desgin websites</td>\n",
       "      <td>Design</td>\n",
       "      <td>Entry ($)</td>\n",
       "      <td>Graphic Design</td>\n",
       "      <td>130</td>\n",
       "      <td>remote</td>\n",
       "      <td>ALL</td>\n",
       "      <td>fixed_price</td>\n",
       "      <td>2023-04-29 18:06:39</td>\n",
       "      <td>We are looking to improve the banner images on...</td>\n",
       "      <td>265.810769</td>\n",
       "      <td>2010-11-03</td>\n",
       "      <td>Dublin</td>\n",
       "      <td>Ireland</td>\n",
       "      <td>EUR</td>\n",
       "      <td>PPC Management</td>\n",
       "    </tr>\n",
       "    <tr>\n",
       "      <th>1</th>\n",
       "      <td>Make my picture a solid silhouette</td>\n",
       "      <td>Video, Photo &amp; Image</td>\n",
       "      <td>Entry ($)</td>\n",
       "      <td>Image Editing</td>\n",
       "      <td>44</td>\n",
       "      <td>remote</td>\n",
       "      <td>ALL</td>\n",
       "      <td>fixed_price</td>\n",
       "      <td>2023-04-29 17:40:28</td>\n",
       "      <td>Hello \\n\\nI need a quick designer to make 4 pi...</td>\n",
       "      <td>265.810769</td>\n",
       "      <td>2017-02-21</td>\n",
       "      <td>London</td>\n",
       "      <td>United Kingdom</td>\n",
       "      <td>GBP</td>\n",
       "      <td>Office manager</td>\n",
       "    </tr>\n",
       "    <tr>\n",
       "      <th>2</th>\n",
       "      <td>Bookkeeper needed</td>\n",
       "      <td>Business</td>\n",
       "      <td>Entry ($)</td>\n",
       "      <td>Finance &amp; Accounting</td>\n",
       "      <td>16</td>\n",
       "      <td>remote</td>\n",
       "      <td>ALL</td>\n",
       "      <td>fixed_price</td>\n",
       "      <td>2023-04-29 17:40:06</td>\n",
       "      <td>Hi - I need a bookkeeper to assist with bookke...</td>\n",
       "      <td>265.810769</td>\n",
       "      <td>2023-04-09</td>\n",
       "      <td>London</td>\n",
       "      <td>United Kingdom</td>\n",
       "      <td>GBP</td>\n",
       "      <td>Paralegal</td>\n",
       "    </tr>\n",
       "    <tr>\n",
       "      <th>3</th>\n",
       "      <td>Accountant needed</td>\n",
       "      <td>Business</td>\n",
       "      <td>Entry ($)</td>\n",
       "      <td>Tax Consulting &amp; Advising</td>\n",
       "      <td>24</td>\n",
       "      <td>remote</td>\n",
       "      <td>ALL</td>\n",
       "      <td>fixed_price</td>\n",
       "      <td>2023-04-29 17:32:01</td>\n",
       "      <td>Hi - I need an accountant to assist me with un...</td>\n",
       "      <td>265.810769</td>\n",
       "      <td>2023-04-09</td>\n",
       "      <td>London</td>\n",
       "      <td>United Kingdom</td>\n",
       "      <td>GBP</td>\n",
       "      <td>Paralegal</td>\n",
       "    </tr>\n",
       "    <tr>\n",
       "      <th>4</th>\n",
       "      <td>Guest Post on High DA Website</td>\n",
       "      <td>Digital Marketing</td>\n",
       "      <td>Expert ($$$)</td>\n",
       "      <td>SEO</td>\n",
       "      <td>868</td>\n",
       "      <td>remote</td>\n",
       "      <td>ALL</td>\n",
       "      <td>fixed_price</td>\n",
       "      <td>2023-04-29 17:09:36</td>\n",
       "      <td>Hi, I am currently running a project where I w...</td>\n",
       "      <td>265.810769</td>\n",
       "      <td>2016-07-01</td>\n",
       "      <td>Mumbai</td>\n",
       "      <td>India</td>\n",
       "      <td>USD</td>\n",
       "      <td>Guest posts buyer</td>\n",
       "    </tr>\n",
       "  </tbody>\n",
       "</table>\n",
       "</div>"
      ],
      "text/plain": [
       "                                   Title         Category Name    Experience  \\\n",
       "0  Banner images for web desgin websites                Design     Entry ($)   \n",
       "1    Make my picture a solid silhouette   Video, Photo & Image     Entry ($)   \n",
       "2                      Bookkeeper needed              Business     Entry ($)   \n",
       "3                     Accountant needed               Business     Entry ($)   \n",
       "4          Guest Post on High DA Website     Digital Marketing  Expert ($$$)   \n",
       "\n",
       "           Sub Category Name  Budget Location Freelancer Preferred From  \\\n",
       "0             Graphic Design     130   remote                       ALL   \n",
       "1              Image Editing      44   remote                       ALL   \n",
       "2       Finance & Accounting      16   remote                       ALL   \n",
       "3  Tax Consulting & Advising      24   remote                       ALL   \n",
       "4                        SEO     868   remote                       ALL   \n",
       "\n",
       "          Type          Date Posted  \\\n",
       "0  fixed_price  2023-04-29 18:06:39   \n",
       "1  fixed_price  2023-04-29 17:40:28   \n",
       "2  fixed_price  2023-04-29 17:40:06   \n",
       "3  fixed_price  2023-04-29 17:32:01   \n",
       "4  fixed_price  2023-04-29 17:09:36   \n",
       "\n",
       "                                         Description    Duration  \\\n",
       "0  We are looking to improve the banner images on...  265.810769   \n",
       "1  Hello \\n\\nI need a quick designer to make 4 pi...  265.810769   \n",
       "2  Hi - I need a bookkeeper to assist with bookke...  265.810769   \n",
       "3  Hi - I need an accountant to assist me with un...  265.810769   \n",
       "4  Hi, I am currently running a project where I w...  265.810769   \n",
       "\n",
       "  Client Registration Date Client City  Client Country Client Currency  \\\n",
       "0               2010-11-03      Dublin         Ireland             EUR   \n",
       "1               2017-02-21      London  United Kingdom             GBP   \n",
       "2               2023-04-09      London  United Kingdom             GBP   \n",
       "3               2023-04-09      London  United Kingdom             GBP   \n",
       "4               2016-07-01      Mumbai           India             USD   \n",
       "\n",
       "    Client Job Title  \n",
       "0     PPC Management  \n",
       "1     Office manager  \n",
       "2          Paralegal  \n",
       "3          Paralegal  \n",
       "4  Guest posts buyer  "
      ]
     },
     "execution_count": 19,
     "metadata": {},
     "output_type": "execute_result"
    }
   ],
   "source": [
    "df.head()"
   ]
  },
  {
   "cell_type": "code",
   "execution_count": 20,
   "id": "92ef3f96",
   "metadata": {},
   "outputs": [
    {
     "data": {
      "text/plain": [
       "<Axes: >"
      ]
     },
     "execution_count": 20,
     "metadata": {},
     "output_type": "execute_result"
    },
    {
     "data": {
      "image/png": "[encoded data removed]",
      "text/plain": [
       "<Figure size 640x480 with 1 Axes>"
      ]
     },
     "metadata": {},
     "output_type": "display_data"
    }
   ],
   "source": [
    "import seaborn as sns\n",
    "sns.boxplot (df['Budget']) \n",
    "\n",
    "#checking outliers"
   ]
  },
  {
   "cell_type": "code",
   "execution_count": 21,
   "id": "4a5862e5",
   "metadata": {},
   "outputs": [
    {
     "name": "stdout",
     "output_type": "stream",
     "text": [
      "shape of df:(12222, 16)\n",
      "shape of newdf:(11058, 16)\n"
     ]
    }
   ],
   "source": [
    "condition = df['Budget']>600\n",
    "outliers = df[condition]\n",
    "newdf = df.drop(outliers.index,axis=0)\n",
    "print('shape of df:{}'.format(df.shape))\n",
    "print('shape of newdf:{}'.format(newdf.shape))\n",
    "\n",
    "#removing outliers by condition"
   ]
  },
  {
   "cell_type": "code",
   "execution_count": 22,
   "id": "deb5ca38",
   "metadata": {},
   "outputs": [
    {
     "data": {
      "text/plain": [
       "<Axes: >"
      ]
     },
     "execution_count": 22,
     "metadata": {},
     "output_type": "execute_result"
    },
    {
     "data": {
      "image/png": "[encoded data removed]",
      "text/plain": [
       "<Figure size 640x480 with 1 Axes>"
      ]
     },
     "metadata": {},
     "output_type": "display_data"
    }
   ],
   "source": [
    "import seaborn as sns\n",
    "sns.boxplot (newdf['Budget']) "
   ]
  },
  {
   "cell_type": "code",
   "execution_count": 23,
   "id": "33720d8e",
   "metadata": {},
   "outputs": [
    {
     "data": {
      "text/plain": [
       "Index(['Title', 'Category Name', 'Experience', 'Sub Category Name', 'Budget',\n",
       "       'Location', 'Freelancer Preferred From', 'Type', 'Date Posted',\n",
       "       'Description', 'Duration', 'Client Registration Date', 'Client City',\n",
       "       'Client Country', 'Client Currency', 'Client Job Title'],\n",
       "      dtype='object')"
      ]
     },
     "execution_count": 23,
     "metadata": {},
     "output_type": "execute_result"
    }
   ],
   "source": [
    "df.columns"
   ]
  },
  {
   "cell_type": "code",
   "execution_count": 24,
   "id": "3ea59a7c",
   "metadata": {},
   "outputs": [
    {
     "data": {
      "image/png": "[encoded data removed]",
      "text/plain": [
       "<Figure size 640x480 with 1 Axes>"
      ]
     },
     "metadata": {},
     "output_type": "display_data"
    }
   ],
   "source": [
    "import matplotlib.pyplot as plt\n",
    "plt.hist(df['Budget'])\n",
    "plt.show()\n",
    "#here data is right skewed"
   ]
  },
  {
   "cell_type": "code",
   "execution_count": 25,
   "id": "2e1fca39",
   "metadata": {},
   "outputs": [],
   "source": [
    "#we can remove skewness buy using boxcox transormation but here used log methode as boxcox not worked for negative values"
   ]
  },
  {
   "cell_type": "code",
   "execution_count": 26,
   "id": "7d9bc3e7",
   "metadata": {
    "scrolled": true
   },
   "outputs": [
    {
     "data": {
      "text/plain": [
       "1.0501266615939149"
      ]
     },
     "execution_count": 26,
     "metadata": {},
     "output_type": "execute_result"
    }
   ],
   "source": [
    "df['Budget'].skew()"
   ]
  },
  {
   "cell_type": "code",
   "execution_count": 27,
   "id": "b252741c",
   "metadata": {},
   "outputs": [
    {
     "data": {
      "text/plain": [
       "0        11.401754\n",
       "1         6.633250\n",
       "2         4.000000\n",
       "3         4.898979\n",
       "4        29.461840\n",
       "           ...    \n",
       "12217    11.180340\n",
       "12218    13.038405\n",
       "12219    11.180340\n",
       "12220     9.000000\n",
       "12221    13.928388\n",
       "Name: Budget, Length: 12222, dtype: float64"
      ]
     },
     "execution_count": 27,
     "metadata": {},
     "output_type": "execute_result"
    }
   ],
   "source": [
    "import math\n",
    "#math.log(df['Budget'])\n",
    "df['Budget'] = df['Budget'].apply(math.sqrt)\n",
    "df['Budget']\n",
    "\n"
   ]
  },
  {
   "cell_type": "code",
   "execution_count": 28,
   "id": "1c17078e",
   "metadata": {},
   "outputs": [
    {
     "data": {
      "text/plain": [
       "0.25364996386102195"
      ]
     },
     "execution_count": 28,
     "metadata": {},
     "output_type": "execute_result"
    }
   ],
   "source": [
    "df['Budget'].skew()"
   ]
  },
  {
   "cell_type": "code",
   "execution_count": 29,
   "id": "ae355fb4",
   "metadata": {},
   "outputs": [
    {
     "data": {
      "image/png": "[encoded data removed]",
      "text/plain": [
       "<Figure size 640x480 with 1 Axes>"
      ]
     },
     "metadata": {},
     "output_type": "display_data"
    }
   ],
   "source": [
    "plt.hist(df['Budget'])\n",
    "plt.show()\n",
    "\n",
    "#now data properly skewed. "
   ]
  },
  {
   "cell_type": "code",
   "execution_count": null,
   "id": "9281a532",
   "metadata": {},
   "outputs": [],
   "source": []
  }
 ],
 "metadata": {
  "kernelspec": {
   "display_name": "Python 3 (ipykernel)",
   "language": "python",
   "name": "python3"
  },
  "language_info": {
   "codemirror_mode": {
    "name": "ipython",
    "version": 3
   },
   "file_extension": ".py",
   "mimetype": "text/x-python",
   "name": "python",
   "nbconvert_exporter": "python",
   "pygments_lexer": "ipython3",
   "version": "3.10.9"
  }
 },
 "nbformat": 4,
 "nbformat_minor": 5
}
